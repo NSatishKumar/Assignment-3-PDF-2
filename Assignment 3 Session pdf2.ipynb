{
 "cells": [
  {
   "cell_type": "markdown",
   "metadata": {},
   "source": [
    "## Write a function to compute 5/0 and use try/except to catch the exceptions.   "
   ]
  },
  {
   "cell_type": "code",
   "execution_count": 1,
   "metadata": {},
   "outputs": [
    {
     "name": "stdout",
     "output_type": "stream",
     "text": [
      "Exception occuried:  division by zero\n",
      "Exception catched and code still runs\n"
     ]
    }
   ],
   "source": [
    "def Exceptionprog():                                                   # Defining a function \n",
    "    try:                                                               # Defining the try block\n",
    "        var = 5/0                                                      # Defining the 5/0 expression\n",
    "    except Exception as ex:                                                            # Defining the except block \n",
    "        print(\"Exception occuried: \", ex)              \n",
    "    finally:                                                           # Defining the finally block \n",
    "        print(\"Exception catched and code still runs\")\n",
    "\n",
    "Exceptionprog()                                                        # Calling the function"
   ]
  },
  {
   "cell_type": "markdown",
   "metadata": {},
   "source": [
    "## 2.  ​Implement a Python program to generate all sentences where subject is in [\"Americans\",  \"Indians\"] and verb is in [\"Play\", \"watch\"] and the object is in [\"Baseball\",\"cricket\"].  \n",
    "              \n",
    "Hint: Subject,Verb and Object should be declared in the program as shown below.  \n",
    "              \n",
    "subjects=[\"Americans \",\"Indians\"]  \n",
    "verbs=[\"play\",\"watch\"]  \n",
    "objects=[\"Baseball\",\"Cricket\"]  \n",
    "              \n",
    "Output should come as below:  \n",
    "              \n",
    "Americans  play Baseball.  \n",
    "Americans  play Cricket.  \n",
    "Americans  watch Baseball.  \n",
    "Americans  watch Cricket.  \n",
    "Indians play Baseball.  \n",
    "Indians play Cricket.  \n",
    "Indians watch Baseball.  \n",
    "Indians watch Cricket."
   ]
  },
  {
   "cell_type": "code",
   "execution_count": 3,
   "metadata": {},
   "outputs": [
    {
     "name": "stdout",
     "output_type": "stream",
     "text": [
      "Americans play Baseball\n",
      "Americans play Cricket\n",
      "Americans watch Baseball\n",
      "Americans watch Cricket\n",
      "Indians play Baseball\n",
      "Indians play Cricket\n",
      "Indians watch Baseball\n",
      "Indians watch Cricket\n"
     ]
    }
   ],
   "source": [
    "subjects=[\"Americans\",\"Indians\"]                                    # Defining the subject list \n",
    "verbs=[\"play\",\"watch\"]                                              # Defining the verb list\n",
    "objects=[\"Baseball\",\"Cricket\"]                                      # Defining the object list\n",
    "output=[]\n",
    "for subitem in subjects:                                           # looping through subject list\n",
    "    for verbitem in verbs:                                         # looping through verb list\n",
    "        for objitem in objects:                                    # looping through object list \n",
    "            print('{} {} {}' .format(subitem,verbitem,objitem))    # displaying the output in sentences      \n",
    "            output.append(subitem + ' '+verbitem+ ' '+objitem)\n",
    "            "
   ]
  },
  {
   "cell_type": "code",
   "execution_count": null,
   "metadata": {},
   "outputs": [],
   "source": []
  }
 ],
 "metadata": {
  "kernelspec": {
   "display_name": "Python 3",
   "language": "python",
   "name": "python3"
  },
  "language_info": {
   "codemirror_mode": {
    "name": "ipython",
    "version": 3
   },
   "file_extension": ".py",
   "mimetype": "text/x-python",
   "name": "python",
   "nbconvert_exporter": "python",
   "pygments_lexer": "ipython3",
   "version": "3.7.0"
  }
 },
 "nbformat": 4,
 "nbformat_minor": 2
}
